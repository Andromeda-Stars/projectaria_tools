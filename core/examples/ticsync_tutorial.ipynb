{
 "cells": [
  {
   "cell_type": "markdown",
   "id": "1c5c3a33-a812-497a-9e5b-af16bc2dfc73",
   "metadata": {},
   "source": [
    "# Time-Synchronized Recordings"
   ]
  },
  {
   "cell_type": "markdown",
   "id": "ddd223ed861161e8",
   "metadata": {},
   "source": [
    "## Goals"
   ]
  },
  {
   "cell_type": "markdown",
   "id": "b36f5ef501948315",
   "metadata": {},
   "source": [
    "* Learn how to validate VRS files recorded in a [TICSync](https://facebookresearch.github.io/projectaria_tools/docs/ARK/sdk/ticsync) session.\n",
    "* Learn how fetch synchronized frames from TICSync VRS files.\n",
    "* Learn how to interpret synchronization offsets amongst the frames of the recordings. "
   ]
  },
  {
   "cell_type": "markdown",
   "id": "e5159459-6a44-479f-ad4d-eccfd5b33caa",
   "metadata": {},
   "source": [
    "## Python Dependencies"
   ]
  },
  {
   "cell_type": "markdown",
   "id": "2ccbb65ee9337c3b",
   "metadata": {},
   "source": [
    "1. Set up a Python virtual environment with [this version of Projectaria Tools using pip](https://facebookresearch.github.io/projectaria_tools/docs/data_utilities/installation/installation_python)\n",
    "2. You may have to `pip install matplotlib notebook==6.5.7`. Notebook v7 may have issues.\n",
    "4. `cd ~ && jupyter notebook`.\n",
    "5. Navigate in jupyter's file browser to the location of this notebook"
   ]
  },
  {
   "cell_type": "markdown",
   "id": "7103c066",
   "metadata": {},
   "source": [
    "## Understanding Time Domains"
   ]
  },
  {
   "cell_type": "markdown",
   "id": "0b5253ab",
   "metadata": {},
   "source": [
    "In a TICSync recording, all devices mark video frames with a timestamp in a conceptual TICSync time domain. During the recording, the TICSync algorithm constructs, on-the-fly, the mapping between the conceptual TICSync time domain and the concrete `DEVICE_TIME` time domains of the glasses. Under the current implementation, the unique _server_ device uses its `DEVICE_TIME` as the conceptual TICSync time, while all clients use their concrete `TIC_SYNC` time domains. The code below shows how to download TICSync sample recordings (VRS files) and how to query the concrete time domains in the VRS files."
   ]
  },
  {
   "cell_type": "markdown",
   "id": "ac1a541c-df79-4510-a98d-7a4006e1aca0",
   "metadata": {},
   "source": [
    "## Imports"
   ]
  },
  {
   "cell_type": "code",
   "execution_count": null,
   "id": "87989a2dec4c3653",
   "metadata": {
    "ExecuteTime": {
     "end_time": "2024-06-05T18:19:09.977613Z",
     "start_time": "2024-06-05T18:19:06.370133Z"
    }
   },
   "outputs": [],
   "source": [
    "import matplotlib.pyplot as plt\n",
    "import numpy as np\n",
    "\n",
    "from projectaria_tools.core import data_provider\n",
    "from projectaria_tools.core.sensor_data import (\n",
    "    SensorData,\n",
    "    TimeDomain,\n",
    "    TimeQueryOptions,\n",
    ")\n",
    "from projectaria_tools.core.stream_id import StreamId"
   ]
  },
  {
   "cell_type": "markdown",
   "id": "876c99ed",
   "metadata": {},
   "source": [
    "## Download Sample TICSync VRS Files"
   ]
  },
  {
   "cell_type": "markdown",
   "id": "cf2b8b93",
   "metadata": {},
   "source": [
    "We have three sample synchronized recordings of the same millisecond-resolution clock display. The recordings include 3 minutes of simultaneous recording. Some of the recordings are longer than three minutes long because the glasses take time to connect and they start recording sequentially.\n",
    "\n",
    "The files are around 3&nbsp;GB each, so the downloading may take some considerable time. Check your `/tmp/ticsync_sample_data` folder to track download progress. The notebook kernel may appear frozen during the downloads, but it's not. The cell below will finish eventually. \n",
    "\n",
    "The logic checks whether the files have already been downloaded so you only have to wait once, then you can repeatedly run the notebook.\n",
    "\n",
    "If you prefer, you may substitute your own TICSync files for our samples. Just bypass this downloading code (don't run the cells) and adjust the definition of `ticsync_pathnames` as needed."
   ]
  },
  {
   "cell_type": "code",
   "execution_count": null,
   "id": "b47384a9",
   "metadata": {},
   "outputs": [],
   "source": [
    "import os\n",
    "from tqdm import tqdm\n",
    "from urllib.request import urlretrieve\n",
    "from zipfile import ZipFile\n",
    "\n",
    "google_colab_env = 'google.colab' in str(get_ipython())\n",
    "if google_colab_env:\n",
    "    print(\"Running from Google Colab, installing projectaria_tools and getting sample data\")\n",
    "    !pip install projectaria-tools\n",
    "    ticsync_sample_path = \"./ticsync_sample_data/\"\n",
    "else:\n",
    "    ticsync_sample_path = \"/tmp/ticsync_sample_data/\"\n",
    "\n",
    "base_url = \"https://www.projectaria.com/async/sample/download/?bucket=core&filename=\"\n",
    "os.makedirs(ticsync_sample_path, exist_ok=True)\n",
    "\n",
    "ticsync_filenames = [\n",
    "    \"ticsync_tutorial_server_3m.vrs\",\n",
    "    \"ticsync_tutorial_client1_3m.vrs\",\n",
    "    \"ticsync_tutorial_client2_3m.vrs\",]\n",
    "\n",
    "print(\"Downloading sample data (if they don't already exist)\")\n",
    "for filename in tqdm(ticsync_filenames):\n",
    "    print(f\"Processing: {filename}\")\n",
    "    full_path: str = os.path.join(ticsync_sample_path, filename)\n",
    "    if os.path.isfile(full_path):\n",
    "        print(f\"{full_path} has alredy been downloaded.\")\n",
    "    else:\n",
    "        print(f\"Downloading {base_url}{filename} to {full_path}\")\n",
    "        urlretrieve(f\"{base_url}{filename}\", full_path)\n",
    "        if filename.endswith(\".zip\"):\n",
    "            with ZipFile(full_path, 'r') as zip_ref:\n",
    "                zip_ref.extractall(path=ticsync_sample_path)                "
   ]
  },
  {
   "cell_type": "markdown",
   "id": "f04d5829",
   "metadata": {},
   "source": [
    "## Pathname Instructions"
   ]
  },
  {
   "cell_type": "markdown",
   "id": "de2160c5",
   "metadata": {},
   "source": [
    "Adjust the following path names if necessary to accommodate the locations of the files you wish to analyze. These are the only names needed going forward."
   ]
  },
  {
   "cell_type": "code",
   "execution_count": null,
   "id": "256a4a4289f938be",
   "metadata": {
    "ExecuteTime": {
     "end_time": "2024-06-05T18:19:09.980679Z",
     "start_time": "2024-06-05T18:19:09.978841Z"
    }
   },
   "outputs": [],
   "source": [
    "ticsync_pathnames = [\n",
    "    os.path.join(ticsync_sample_path, filename)\n",
    "    for filename in ticsync_filenames]"
   ]
  },
  {
   "cell_type": "markdown",
   "id": "c8489522",
   "metadata": {},
   "source": [
    "## Get Data Providers"
   ]
  },
  {
   "cell_type": "code",
   "execution_count": null,
   "id": "cbe46842",
   "metadata": {},
   "outputs": [],
   "source": [
    "providers = [data_provider.create_vrs_data_provider(filename)\n",
    "             for filename in ticsync_pathnames]"
   ]
  },
  {
   "cell_type": "markdown",
   "id": "cbfbd18f",
   "metadata": {},
   "source": [
    "## Get and Browse Metadata"
   ]
  },
  {
   "cell_type": "markdown",
   "id": "ba947018",
   "metadata": {},
   "source": [
    "Let's examine the metadata for one of the providers.\n",
    "\n",
    "The metadata are in a Python object. Here is a way to convert it (or any other object) into a dict for browsing its fields."
   ]
  },
  {
   "cell_type": "code",
   "execution_count": null,
   "id": "ad42612b",
   "metadata": {},
   "outputs": [],
   "source": [
    "def object_to_dict(object):\n",
    "    import re\n",
    "    dunder = re.compile(r\"^__.*__$\")  \n",
    "    attributes = [member for member in dir(object)\n",
    "                  if not dunder.match(member)]\n",
    "    result = {attribute: getattr(object, attribute)\n",
    "              for attribute in attributes}\n",
    "    return result "
   ]
  },
  {
   "cell_type": "code",
   "execution_count": null,
   "id": "bf797991",
   "metadata": {},
   "outputs": [],
   "source": [
    "server_metadata = providers[0].get_metadata()\n",
    "object_to_dict(server_metadata)"
   ]
  },
  {
   "cell_type": "markdown",
   "id": "0306cda0",
   "metadata": {},
   "source": [
    "Now that we know that the metadata have the attribute `time_sync_mode`, we can dot into it:"
   ]
  },
  {
   "cell_type": "code",
   "execution_count": null,
   "id": "b8da1dbd",
   "metadata": {},
   "outputs": [],
   "source": [
    "server_metadata.time_sync_mode"
   ]
  },
  {
   "cell_type": "markdown",
   "id": "69919ee8",
   "metadata": {},
   "source": [
    "Python `enums` like `time_sync_mode` have a `name` attribute that we can use for testing in code below. Here are all the attributes of the `time_sync_mode` attribute with all the possible values and the particular value pertaining to the server metadata."
   ]
  },
  {
   "cell_type": "code",
   "execution_count": null,
   "id": "b248e3e1",
   "metadata": {},
   "outputs": [],
   "source": [
    "object_to_dict(server_metadata.time_sync_mode)"
   ]
  },
  {
   "cell_type": "code",
   "execution_count": null,
   "id": "97100043",
   "metadata": {},
   "outputs": [],
   "source": [
    "server_metadata.time_sync_mode.name"
   ]
  },
  {
   "cell_type": "markdown",
   "id": "07a5dd4a",
   "metadata": {},
   "source": [
    "## Check that all VRS Files Belong to the Same Session"
   ]
  },
  {
   "cell_type": "markdown",
   "id": "c5147f1f",
   "metadata": {},
   "source": [
    "One critical attribute of the metadata is the `shared_session_id`. Your shared recordings must belong to the same shared session. If they do not, the results are nonsense."
   ]
  },
  {
   "cell_type": "code",
   "execution_count": null,
   "id": "2349b9fc",
   "metadata": {},
   "outputs": [],
   "source": [
    "def print_session_ids(providers):\n",
    "    for provider in providers:\n",
    "        print(f'shared session id = {provider.get_metadata().shared_session_id}')\n",
    "\n",
    "def check_session_ids(providers):\n",
    "    session_ids = [provider.get_metadata().shared_session_id\n",
    "                  for provider in providers]\n",
    "    assert (sid == session_ids[0] for sid in session_ids)"
   ]
  },
  {
   "cell_type": "code",
   "execution_count": null,
   "id": "53d8a00b",
   "metadata": {},
   "outputs": [],
   "source": [
    "print_session_ids(providers)\n",
    "check_session_ids(providers)"
   ]
  },
  {
   "cell_type": "markdown",
   "id": "057e686f",
   "metadata": {},
   "source": [
    "We'll use `check_session_ids` in the display codes below."
   ]
  },
  {
   "cell_type": "markdown",
   "id": "fb0baeac-8e8f-480a-a280-658896212bde",
   "metadata": {},
   "source": [
    "## Displaying Frames by Timestamp(ns)"
   ]
  },
  {
   "cell_type": "markdown",
   "id": "8e3cc7d0-cc81-4254-a5a2-403a3422729b",
   "metadata": {},
   "source": [
    "First define a `streams` dictionary, which reminds us that there are other synchronized recordings in the VRS files. We use only `\"camera-rgb\"` in this notebook.\n",
    "\n",
    "After these definitions, we'll see how to investigate the synchronized VRS files by timestamp."
   ]
  },
  {
   "cell_type": "code",
   "execution_count": null,
   "id": "0e7c813a",
   "metadata": {},
   "outputs": [],
   "source": [
    "# It's possible to search other image streams.\n",
    "streams = {\n",
    "    \"camera-slam-left\": StreamId(\"1201-1\"),\n",
    "    \"camera-slam-right\":StreamId(\"1201-2\"),\n",
    "    \"camera-rgb\":StreamId(\"214-1\"),\n",
    "    \"camera-eyetracking\":StreamId(\"211-1\"),}"
   ]
  },
  {
   "cell_type": "code",
   "execution_count": null,
   "id": "0e7323d5",
   "metadata": {},
   "outputs": [],
   "source": [
    "def get_server_provider(providers):\n",
    "    server_providers = [provider for provider in providers\n",
    "                       if provider.get_metadata().time_sync_mode.name == 'TicSyncServer']\n",
    "    return server_providers[0]"
   ]
  },
  {
   "cell_type": "code",
   "execution_count": null,
   "id": "c8ab08f5",
   "metadata": {},
   "outputs": [],
   "source": [
    "server_provider = get_server_provider(providers)"
   ]
  },
  {
   "cell_type": "code",
   "execution_count": null,
   "id": "935a7fea-df53-4bcb-8ad6-fa2cb75439dd",
   "metadata": {
    "ExecuteTime": {
     "end_time": "2024-06-05T18:19:12.719044Z",
     "start_time": "2024-06-05T18:19:11.718862Z"
    }
   },
   "outputs": [],
   "source": [
    "all_server_timestamps_ns = server_provider.get_timestamps_ns(\n",
    "    streams[\"camera-rgb\"], TimeDomain.DEVICE_TIME)"
   ]
  },
  {
   "cell_type": "markdown",
   "id": "e9537b68",
   "metadata": {},
   "source": [
    "### Helper Functions"
   ]
  },
  {
   "cell_type": "code",
   "execution_count": null,
   "id": "eda2ec4b",
   "metadata": {
    "ExecuteTime": {
     "end_time": "2024-06-05T18:19:28.012850Z",
     "start_time": "2024-06-05T18:19:28.009534Z"
    }
   },
   "outputs": [],
   "source": [
    "MS_PER_NS = 1 / 1_000_000\n",
    "\n",
    "def ticsync_time_domain_from_provider(provider):\n",
    "    \"\"\"Return a VRS file's local approximation of the conceptual \n",
    "    TICSync time.\"\"\"\n",
    "    mode = provider.get_metadata().time_sync_mode.name\n",
    "    if mode == 'TicSyncServer':\n",
    "        domain = TimeDomain.DEVICE_TIME\n",
    "    elif mode == 'TicSyncClient':\n",
    "        domain = TimeDomain.TIC_SYNC\n",
    "    else:\n",
    "        raise NotImplementedError(f'Unsupported time-sync mode {mode}')\n",
    "    return domain\n",
    "\n",
    "def split_providers(providers):\n",
    "    \"\"\"A utility function used internally.\"\"\"\n",
    "    server_provider = [provider for provider in providers\n",
    "                       if provider.get_metadata().time_sync_mode.name \n",
    "                          == 'TicSyncServer'][0]\n",
    "    client_providers = [provider for provider in providers\n",
    "                       if provider.get_metadata().time_sync_mode.name \n",
    "                          == 'TicSyncClient']\n",
    "    return server_provider, client_providers\n",
    "    \n",
    "def print_timestamp_offsets_ms(time_ns, providers):\n",
    "    \"\"\"We are concerned with the offsets (time differences) between\n",
    "    client glasses and server glasses. Offsets between clients are\n",
    "    not informative, as each client settles to an approximation of\n",
    "    the server's timestamps.\"\"\"\n",
    "    server_provider, client_providers = split_providers(providers)\n",
    "    server_time_ns = get_closest_timestamp_ns(time_ns, server_provider)\n",
    "    client_times_ns = [get_closest_timestamp_ns(time_ns, client_provider)\n",
    "                       for client_provider in client_providers]\n",
    "    for i, client_time_ns in enumerate(client_times_ns):\n",
    "        offset = (client_time_ns - server_time_ns) * MS_PER_NS\n",
    "        print(f'client{i + 1} offset (ms) = {offset}')\n",
    "\n",
    "def get_closest_timestamp_ns(ticsync_time_ns, provider):\n",
    "    \"\"\"Return the actual timestamp in a VRS file that's closest\n",
    "    to a given time in nanoseconds.\"\"\"\n",
    "    domain = ticsync_time_domain_from_provider(provider)\n",
    "    return provider.get_sensor_data_by_time_ns(\n",
    "        stream_id=streams[\"camera-rgb\"],\n",
    "        time_ns=ticsync_time_ns,\n",
    "        time_domain=domain,\n",
    "        time_query_options=TimeQueryOptions.CLOSEST).get_time_ns(domain)\n",
    "    \n",
    "def get_closest_image_by_ticsync_time(ticsync_time_ns, provider):\n",
    "    \"\"\"Get an image from a VRS file closest in TICSync time to a \n",
    "    given time in nanoseconds.\"\"\"\n",
    "    return provider.get_image_data_by_time_ns(\n",
    "        stream_id=streams[\"camera-rgb\"],\n",
    "        time_ns=ticsync_time_ns,\n",
    "        time_domain=ticsync_time_domain_from_provider(provider),\n",
    "        time_query_options=TimeQueryOptions.CLOSEST)"
   ]
  },
  {
   "cell_type": "markdown",
   "id": "de6b0ea8",
   "metadata": {},
   "source": [
    "### Show Frames by Timestamp"
   ]
  },
  {
   "cell_type": "code",
   "execution_count": null,
   "id": "7090047f",
   "metadata": {
    "ExecuteTime": {
     "end_time": "2024-06-05T18:19:28.012850Z",
     "start_time": "2024-06-05T18:19:28.009534Z"
    }
   },
   "outputs": [],
   "source": [
    "def show_frames_by_ticsync_timestamp_ns(ticsync_time_ns, providers):\n",
    "    check_session_ids(providers)\n",
    "    images = [get_closest_image_by_ticsync_time(ticsync_time_ns, provider) \n",
    "             for provider in providers]\n",
    "    print_timestamp_offsets_ms(ticsync_time_ns, providers)\n",
    "    fig_m, axes_m = plt.subplots(1, len(providers), figsize=(10, 5), dpi=300)\n",
    "    image_index = 0\n",
    "    for idx, frame in enumerate(images):\n",
    "        axes_m[idx].set_title(providers[idx].get_metadata().time_sync_mode.name)\n",
    "        npa = frame[0].to_numpy_array()\n",
    "        npar = np.rot90(npa, k=1, axes=(1, 0))\n",
    "        axes_m[idx].imshow(npar)\n",
    "    plt.show()"
   ]
  },
  {
   "cell_type": "markdown",
   "id": "c682c84f",
   "metadata": {},
   "source": [
    "### At an Arbitrary Timestamp"
   ]
  },
  {
   "cell_type": "code",
   "execution_count": null,
   "id": "17109421-6279-4e61-b8a5-005895f542dc",
   "metadata": {
    "ExecuteTime": {
     "end_time": "2024-06-05T18:19:30.001451Z",
     "start_time": "2024-06-05T18:19:29.577625Z"
    }
   },
   "outputs": [],
   "source": [
    "show_frames_by_ticsync_timestamp_ns(all_server_timestamps_ns[len(all_server_timestamps_ns) // 2], providers)"
   ]
  },
  {
   "cell_type": "markdown",
   "id": "4d0c0c80-ff68-4bab-acc1-f3e0bda18b89",
   "metadata": {},
   "source": [
    "See that they're synchronized to clock time within 16 ms, within one frame of each other."
   ]
  },
  {
   "cell_type": "markdown",
   "id": "6e41d167",
   "metadata": {},
   "source": [
    "## Waiting for TICSync Settling"
   ]
  },
  {
   "cell_type": "markdown",
   "id": "241f7e69",
   "metadata": {},
   "source": [
    "TICSync needs warmup, typically 45 seconds after recording starts for each device to settle. Here is code to show you how to find timestamps before and after this settling time."
   ]
  },
  {
   "cell_type": "code",
   "execution_count": null,
   "id": "0aa77824",
   "metadata": {},
   "outputs": [],
   "source": [
    "SEC_PER_NS = 1 / 1e9\n",
    "\n",
    "def diff_timestamps_ns_s(t1_ns, t2_ns):\n",
    "    return (t1_ns - t2_ns) * SEC_PER_NS\n",
    "\n",
    "def timestamp_ns_after_delay_s(timestamps_ns, delay_s):\n",
    "    first_timestamp_ns = timestamps_ns[0]\n",
    "    for i, ts_ns in enumerate(timestamps_ns):\n",
    "        if diff_timestamps_ns_s(ts_ns, first_timestamp_ns) >= delay_s:\n",
    "            break\n",
    "    return ts_ns"
   ]
  },
  {
   "cell_type": "markdown",
   "id": "6abde06a",
   "metadata": {},
   "source": [
    "The TICSync time after 45 seconds since last device began recording."
   ]
  },
  {
   "cell_type": "code",
   "execution_count": null,
   "id": "0597475c",
   "metadata": {},
   "outputs": [],
   "source": [
    "ticsync_time_ns_after_settlement = max([timestamp_ns_after_delay_s(\n",
    "    provider.get_timestamps_ns(\n",
    "        streams[\"camera-rgb\"], \n",
    "        ticsync_time_domain_from_provider(provider)), 45) \n",
    "    for provider in providers])"
   ]
  },
  {
   "cell_type": "markdown",
   "id": "fab1f0ca",
   "metadata": {},
   "source": [
    "That allows us to display the first frames after the delay."
   ]
  },
  {
   "cell_type": "code",
   "execution_count": null,
   "id": "dd7e18dc",
   "metadata": {},
   "outputs": [],
   "source": [
    "show_frames_by_ticsync_timestamp_ns(ticsync_time_ns_after_settlement, providers)"
   ]
  },
  {
   "cell_type": "markdown",
   "id": "3f03ba9b",
   "metadata": {},
   "source": [
    "Observe, again, that the offsets are within one frame."
   ]
  },
  {
   "cell_type": "markdown",
   "id": "3a358a6f-5405-437f-9881-714e1f635f30",
   "metadata": {},
   "source": [
    "## Conclusion"
   ]
  },
  {
   "cell_type": "markdown",
   "id": "02ad7455",
   "metadata": {},
   "source": [
    "Generally speaking, TICSync performs within 1 frame after a 45-second settling time."
   ]
  },
  {
   "cell_type": "markdown",
   "id": "e241846009663d85",
   "metadata": {},
   "source": [
    "We have exhibited general tools for displaying and manipulating synchronized data from VRS files. We have shown how to assess the synchronization versus a physical time standard such as a millisecond clock display. "
   ]
  }
 ],
 "metadata": {
  "kernelspec": {
   "display_name": "Python 3 (ipykernel)",
   "language": "python",
   "name": "python3"
  },
  "language_info": {
   "codemirror_mode": {
    "name": "ipython",
    "version": 3
   },
   "file_extension": ".py",
   "mimetype": "text/x-python",
   "name": "python",
   "nbconvert_exporter": "python",
   "pygments_lexer": "ipython3",
   "version": "3.11.9"
  }
 },
 "nbformat": 4,
 "nbformat_minor": 5
}
